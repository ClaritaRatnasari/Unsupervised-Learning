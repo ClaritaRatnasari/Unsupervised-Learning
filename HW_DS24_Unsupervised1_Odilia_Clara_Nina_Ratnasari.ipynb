{
  "cells": [
    {
      "cell_type": "markdown",
      "id": "38b233eb",
      "metadata": {
        "id": "38b233eb"
      },
      "source": [
        "## Import Package"
      ]
    },
    {
      "cell_type": "code",
      "source": [
        "from google.colab import drive\n",
        "drive.mount('/content/drive')"
      ],
      "metadata": {
        "colab": {
          "base_uri": "https://localhost:8080/"
        },
        "id": "URJ3OdCtiimY",
        "outputId": "29267fc3-ec4b-4758-f9d7-aa756f3b373e"
      },
      "id": "URJ3OdCtiimY",
      "execution_count": null,
      "outputs": [
        {
          "output_type": "stream",
          "name": "stdout",
          "text": [
            "Mounted at /content/drive\n"
          ]
        }
      ]
    },
    {
      "cell_type": "code",
      "execution_count": null,
      "id": "a9cd28bf",
      "metadata": {
        "id": "a9cd28bf"
      },
      "outputs": [],
      "source": [
        "import warnings\n",
        "warnings.filterwarnings('ignore')\n",
        "\n",
        "import numpy as np\n",
        "import pandas as pd\n",
        "import seaborn as sns\n",
        "import matplotlib.pyplot as plt\n",
        "%matplotlib inline\n",
        "\n",
        "from sklearn.linear_model import LinearRegression"
      ]
    },
    {
      "cell_type": "markdown",
      "id": "4de7df6b",
      "metadata": {
        "id": "4de7df6b"
      },
      "source": [
        "## Load Dataset"
      ]
    },
    {
      "cell_type": "code",
      "execution_count": null,
      "id": "045226aa",
      "metadata": {
        "colab": {
          "base_uri": "https://localhost:8080/",
          "height": 206
        },
        "id": "045226aa",
        "outputId": "36ab616a-a23b-485c-94d4-7d3c82faab75"
      },
      "outputs": [
        {
          "output_type": "execute_result",
          "data": {
            "text/plain": [
              "      CRIM    ZN  INDUS  CHAS    NOX     RM   AGE     DIS  RAD    TAX  \\\n",
              "0  0.00632  18.0   2.31   0.0  0.538  6.575  65.2  4.0900  1.0  296.0   \n",
              "1  0.02731   0.0   7.07   0.0  0.469  6.421  78.9  4.9671  2.0  242.0   \n",
              "2  0.02729   0.0   7.07   0.0  0.469  7.185  61.1  4.9671  2.0  242.0   \n",
              "3  0.03237   0.0   2.18   0.0  0.458  6.998  45.8  6.0622  3.0  222.0   \n",
              "4  0.06905   0.0   2.18   0.0  0.458  7.147  54.2  6.0622  3.0  222.0   \n",
              "\n",
              "   PTRATIO       B  LSTAT  MEDV  \n",
              "0     15.3  396.90   4.98  24.0  \n",
              "1     17.8  396.90   9.14  21.6  \n",
              "2     17.8  392.83   4.03  34.7  \n",
              "3     18.7  394.63   2.94  33.4  \n",
              "4     18.7  396.90   5.33  36.2  "
            ],
            "text/html": [
              "\n",
              "  <div id=\"df-2189a3f3-ac1a-4c33-9b4c-62e5618ea66a\">\n",
              "    <div class=\"colab-df-container\">\n",
              "      <div>\n",
              "<style scoped>\n",
              "    .dataframe tbody tr th:only-of-type {\n",
              "        vertical-align: middle;\n",
              "    }\n",
              "\n",
              "    .dataframe tbody tr th {\n",
              "        vertical-align: top;\n",
              "    }\n",
              "\n",
              "    .dataframe thead th {\n",
              "        text-align: right;\n",
              "    }\n",
              "</style>\n",
              "<table border=\"1\" class=\"dataframe\">\n",
              "  <thead>\n",
              "    <tr style=\"text-align: right;\">\n",
              "      <th></th>\n",
              "      <th>CRIM</th>\n",
              "      <th>ZN</th>\n",
              "      <th>INDUS</th>\n",
              "      <th>CHAS</th>\n",
              "      <th>NOX</th>\n",
              "      <th>RM</th>\n",
              "      <th>AGE</th>\n",
              "      <th>DIS</th>\n",
              "      <th>RAD</th>\n",
              "      <th>TAX</th>\n",
              "      <th>PTRATIO</th>\n",
              "      <th>B</th>\n",
              "      <th>LSTAT</th>\n",
              "      <th>MEDV</th>\n",
              "    </tr>\n",
              "  </thead>\n",
              "  <tbody>\n",
              "    <tr>\n",
              "      <th>0</th>\n",
              "      <td>0.00632</td>\n",
              "      <td>18.0</td>\n",
              "      <td>2.31</td>\n",
              "      <td>0.0</td>\n",
              "      <td>0.538</td>\n",
              "      <td>6.575</td>\n",
              "      <td>65.2</td>\n",
              "      <td>4.0900</td>\n",
              "      <td>1.0</td>\n",
              "      <td>296.0</td>\n",
              "      <td>15.3</td>\n",
              "      <td>396.90</td>\n",
              "      <td>4.98</td>\n",
              "      <td>24.0</td>\n",
              "    </tr>\n",
              "    <tr>\n",
              "      <th>1</th>\n",
              "      <td>0.02731</td>\n",
              "      <td>0.0</td>\n",
              "      <td>7.07</td>\n",
              "      <td>0.0</td>\n",
              "      <td>0.469</td>\n",
              "      <td>6.421</td>\n",
              "      <td>78.9</td>\n",
              "      <td>4.9671</td>\n",
              "      <td>2.0</td>\n",
              "      <td>242.0</td>\n",
              "      <td>17.8</td>\n",
              "      <td>396.90</td>\n",
              "      <td>9.14</td>\n",
              "      <td>21.6</td>\n",
              "    </tr>\n",
              "    <tr>\n",
              "      <th>2</th>\n",
              "      <td>0.02729</td>\n",
              "      <td>0.0</td>\n",
              "      <td>7.07</td>\n",
              "      <td>0.0</td>\n",
              "      <td>0.469</td>\n",
              "      <td>7.185</td>\n",
              "      <td>61.1</td>\n",
              "      <td>4.9671</td>\n",
              "      <td>2.0</td>\n",
              "      <td>242.0</td>\n",
              "      <td>17.8</td>\n",
              "      <td>392.83</td>\n",
              "      <td>4.03</td>\n",
              "      <td>34.7</td>\n",
              "    </tr>\n",
              "    <tr>\n",
              "      <th>3</th>\n",
              "      <td>0.03237</td>\n",
              "      <td>0.0</td>\n",
              "      <td>2.18</td>\n",
              "      <td>0.0</td>\n",
              "      <td>0.458</td>\n",
              "      <td>6.998</td>\n",
              "      <td>45.8</td>\n",
              "      <td>6.0622</td>\n",
              "      <td>3.0</td>\n",
              "      <td>222.0</td>\n",
              "      <td>18.7</td>\n",
              "      <td>394.63</td>\n",
              "      <td>2.94</td>\n",
              "      <td>33.4</td>\n",
              "    </tr>\n",
              "    <tr>\n",
              "      <th>4</th>\n",
              "      <td>0.06905</td>\n",
              "      <td>0.0</td>\n",
              "      <td>2.18</td>\n",
              "      <td>0.0</td>\n",
              "      <td>0.458</td>\n",
              "      <td>7.147</td>\n",
              "      <td>54.2</td>\n",
              "      <td>6.0622</td>\n",
              "      <td>3.0</td>\n",
              "      <td>222.0</td>\n",
              "      <td>18.7</td>\n",
              "      <td>396.90</td>\n",
              "      <td>5.33</td>\n",
              "      <td>36.2</td>\n",
              "    </tr>\n",
              "  </tbody>\n",
              "</table>\n",
              "</div>\n",
              "      <button class=\"colab-df-convert\" onclick=\"convertToInteractive('df-2189a3f3-ac1a-4c33-9b4c-62e5618ea66a')\"\n",
              "              title=\"Convert this dataframe to an interactive table.\"\n",
              "              style=\"display:none;\">\n",
              "        \n",
              "  <svg xmlns=\"http://www.w3.org/2000/svg\" height=\"24px\"viewBox=\"0 0 24 24\"\n",
              "       width=\"24px\">\n",
              "    <path d=\"M0 0h24v24H0V0z\" fill=\"none\"/>\n",
              "    <path d=\"M18.56 5.44l.94 2.06.94-2.06 2.06-.94-2.06-.94-.94-2.06-.94 2.06-2.06.94zm-11 1L8.5 8.5l.94-2.06 2.06-.94-2.06-.94L8.5 2.5l-.94 2.06-2.06.94zm10 10l.94 2.06.94-2.06 2.06-.94-2.06-.94-.94-2.06-.94 2.06-2.06.94z\"/><path d=\"M17.41 7.96l-1.37-1.37c-.4-.4-.92-.59-1.43-.59-.52 0-1.04.2-1.43.59L10.3 9.45l-7.72 7.72c-.78.78-.78 2.05 0 2.83L4 21.41c.39.39.9.59 1.41.59.51 0 1.02-.2 1.41-.59l7.78-7.78 2.81-2.81c.8-.78.8-2.07 0-2.86zM5.41 20L4 18.59l7.72-7.72 1.47 1.35L5.41 20z\"/>\n",
              "  </svg>\n",
              "      </button>\n",
              "      \n",
              "  <style>\n",
              "    .colab-df-container {\n",
              "      display:flex;\n",
              "      flex-wrap:wrap;\n",
              "      gap: 12px;\n",
              "    }\n",
              "\n",
              "    .colab-df-convert {\n",
              "      background-color: #E8F0FE;\n",
              "      border: none;\n",
              "      border-radius: 50%;\n",
              "      cursor: pointer;\n",
              "      display: none;\n",
              "      fill: #1967D2;\n",
              "      height: 32px;\n",
              "      padding: 0 0 0 0;\n",
              "      width: 32px;\n",
              "    }\n",
              "\n",
              "    .colab-df-convert:hover {\n",
              "      background-color: #E2EBFA;\n",
              "      box-shadow: 0px 1px 2px rgba(60, 64, 67, 0.3), 0px 1px 3px 1px rgba(60, 64, 67, 0.15);\n",
              "      fill: #174EA6;\n",
              "    }\n",
              "\n",
              "    [theme=dark] .colab-df-convert {\n",
              "      background-color: #3B4455;\n",
              "      fill: #D2E3FC;\n",
              "    }\n",
              "\n",
              "    [theme=dark] .colab-df-convert:hover {\n",
              "      background-color: #434B5C;\n",
              "      box-shadow: 0px 1px 3px 1px rgba(0, 0, 0, 0.15);\n",
              "      filter: drop-shadow(0px 1px 2px rgba(0, 0, 0, 0.3));\n",
              "      fill: #FFFFFF;\n",
              "    }\n",
              "  </style>\n",
              "\n",
              "      <script>\n",
              "        const buttonEl =\n",
              "          document.querySelector('#df-2189a3f3-ac1a-4c33-9b4c-62e5618ea66a button.colab-df-convert');\n",
              "        buttonEl.style.display =\n",
              "          google.colab.kernel.accessAllowed ? 'block' : 'none';\n",
              "\n",
              "        async function convertToInteractive(key) {\n",
              "          const element = document.querySelector('#df-2189a3f3-ac1a-4c33-9b4c-62e5618ea66a');\n",
              "          const dataTable =\n",
              "            await google.colab.kernel.invokeFunction('convertToInteractive',\n",
              "                                                     [key], {});\n",
              "          if (!dataTable) return;\n",
              "\n",
              "          const docLinkHtml = 'Like what you see? Visit the ' +\n",
              "            '<a target=\"_blank\" href=https://colab.research.google.com/notebooks/data_table.ipynb>data table notebook</a>'\n",
              "            + ' to learn more about interactive tables.';\n",
              "          element.innerHTML = '';\n",
              "          dataTable['output_type'] = 'display_data';\n",
              "          await google.colab.output.renderOutput(dataTable, element);\n",
              "          const docLink = document.createElement('div');\n",
              "          docLink.innerHTML = docLinkHtml;\n",
              "          element.appendChild(docLink);\n",
              "        }\n",
              "      </script>\n",
              "    </div>\n",
              "  </div>\n",
              "  "
            ]
          },
          "metadata": {},
          "execution_count": 3
        }
      ],
      "source": [
        "boston = pd.read_csv('/content/drive/MyDrive/Materi Day 24/dataset/housing.csv')\n",
        "boston.head()"
      ]
    },
    {
      "cell_type": "markdown",
      "source": [
        "## Data Preprocessing"
      ],
      "metadata": {
        "id": "nn3PQY0eCUSo"
      },
      "id": "nn3PQY0eCUSo"
    },
    {
      "cell_type": "code",
      "source": [
        "# basic checking (cek missing value dan duplikat data)\n",
        "\n",
        "boston.info()"
      ],
      "metadata": {
        "colab": {
          "base_uri": "https://localhost:8080/"
        },
        "id": "N-6KdnfZCQWo",
        "outputId": "72afa0c5-2712-4cb4-937a-39504f09d70d"
      },
      "id": "N-6KdnfZCQWo",
      "execution_count": null,
      "outputs": [
        {
          "output_type": "stream",
          "name": "stdout",
          "text": [
            "<class 'pandas.core.frame.DataFrame'>\n",
            "RangeIndex: 506 entries, 0 to 505\n",
            "Data columns (total 14 columns):\n",
            " #   Column   Non-Null Count  Dtype  \n",
            "---  ------   --------------  -----  \n",
            " 0   CRIM     506 non-null    float64\n",
            " 1   ZN       506 non-null    float64\n",
            " 2   INDUS    506 non-null    float64\n",
            " 3   CHAS     506 non-null    float64\n",
            " 4   NOX      506 non-null    float64\n",
            " 5   RM       506 non-null    float64\n",
            " 6   AGE      506 non-null    float64\n",
            " 7   DIS      506 non-null    float64\n",
            " 8   RAD      506 non-null    float64\n",
            " 9   TAX      506 non-null    float64\n",
            " 10  PTRATIO  506 non-null    float64\n",
            " 11  B        506 non-null    float64\n",
            " 12  LSTAT    506 non-null    float64\n",
            " 13  MEDV     506 non-null    float64\n",
            "dtypes: float64(14)\n",
            "memory usage: 55.5 KB\n"
          ]
        }
      ]
    },
    {
      "cell_type": "code",
      "source": [
        "boston.duplicated().sum()"
      ],
      "metadata": {
        "colab": {
          "base_uri": "https://localhost:8080/"
        },
        "id": "cI3bpJApCQTO",
        "outputId": "0483dfc0-6de2-46dc-fd51-844fb5b7bdcb"
      },
      "id": "cI3bpJApCQTO",
      "execution_count": null,
      "outputs": [
        {
          "output_type": "execute_result",
          "data": {
            "text/plain": [
              "0"
            ]
          },
          "metadata": {},
          "execution_count": 5
        }
      ]
    },
    {
      "cell_type": "markdown",
      "source": [
        "Aman, tidak ada missing value dan duplikat data"
      ],
      "metadata": {
        "id": "_tVFXVdpCh9t"
      },
      "id": "_tVFXVdpCh9t"
    },
    {
      "cell_type": "code",
      "source": [
        "# selanjutnya memisahkan target\n",
        "\n",
        "x = boston.drop('MEDV', axis=1)\n",
        "y = boston['MEDV']"
      ],
      "metadata": {
        "id": "DhwAbUQcCQKw"
      },
      "id": "DhwAbUQcCQKw",
      "execution_count": null,
      "outputs": []
    },
    {
      "cell_type": "code",
      "source": [
        "# scaling\n",
        "\n",
        "from sklearn.preprocessing import StandardScaler\n",
        "\n",
        "scaler = StandardScaler()\n",
        "scaler.fit(x)\n",
        "x_std = scaler.transform(x)\n",
        "\n",
        "df = pd.DataFrame(data = x_std, columns = list(x))\n",
        "df.head()"
      ],
      "metadata": {
        "colab": {
          "base_uri": "https://localhost:8080/",
          "height": 206
        },
        "id": "YDOby7-rCQHe",
        "outputId": "9c765c2c-3b50-40c7-aee8-ce2afbfc5b96"
      },
      "id": "YDOby7-rCQHe",
      "execution_count": null,
      "outputs": [
        {
          "output_type": "execute_result",
          "data": {
            "text/plain": [
              "       CRIM        ZN     INDUS      CHAS       NOX        RM       AGE  \\\n",
              "0 -0.419782  0.284830 -1.287909 -0.272599 -0.144217  0.413672 -0.120013   \n",
              "1 -0.417339 -0.487722 -0.593381 -0.272599 -0.740262  0.194274  0.367166   \n",
              "2 -0.417342 -0.487722 -0.593381 -0.272599 -0.740262  1.282714 -0.265812   \n",
              "3 -0.416750 -0.487722 -1.306878 -0.272599 -0.835284  1.016303 -0.809889   \n",
              "4 -0.412482 -0.487722 -1.306878 -0.272599 -0.835284  1.228577 -0.511180   \n",
              "\n",
              "        DIS       RAD       TAX   PTRATIO         B     LSTAT  \n",
              "0  0.140214 -0.982843 -0.666608 -1.459000  0.441052 -1.075562  \n",
              "1  0.557160 -0.867883 -0.987329 -0.303094  0.441052 -0.492439  \n",
              "2  0.557160 -0.867883 -0.987329 -0.303094  0.396427 -1.208727  \n",
              "3  1.077737 -0.752922 -1.106115  0.113032  0.416163 -1.361517  \n",
              "4  1.077737 -0.752922 -1.106115  0.113032  0.441052 -1.026501  "
            ],
            "text/html": [
              "\n",
              "  <div id=\"df-268f457d-3c50-4b65-8bd8-04435a11793f\">\n",
              "    <div class=\"colab-df-container\">\n",
              "      <div>\n",
              "<style scoped>\n",
              "    .dataframe tbody tr th:only-of-type {\n",
              "        vertical-align: middle;\n",
              "    }\n",
              "\n",
              "    .dataframe tbody tr th {\n",
              "        vertical-align: top;\n",
              "    }\n",
              "\n",
              "    .dataframe thead th {\n",
              "        text-align: right;\n",
              "    }\n",
              "</style>\n",
              "<table border=\"1\" class=\"dataframe\">\n",
              "  <thead>\n",
              "    <tr style=\"text-align: right;\">\n",
              "      <th></th>\n",
              "      <th>CRIM</th>\n",
              "      <th>ZN</th>\n",
              "      <th>INDUS</th>\n",
              "      <th>CHAS</th>\n",
              "      <th>NOX</th>\n",
              "      <th>RM</th>\n",
              "      <th>AGE</th>\n",
              "      <th>DIS</th>\n",
              "      <th>RAD</th>\n",
              "      <th>TAX</th>\n",
              "      <th>PTRATIO</th>\n",
              "      <th>B</th>\n",
              "      <th>LSTAT</th>\n",
              "    </tr>\n",
              "  </thead>\n",
              "  <tbody>\n",
              "    <tr>\n",
              "      <th>0</th>\n",
              "      <td>-0.419782</td>\n",
              "      <td>0.284830</td>\n",
              "      <td>-1.287909</td>\n",
              "      <td>-0.272599</td>\n",
              "      <td>-0.144217</td>\n",
              "      <td>0.413672</td>\n",
              "      <td>-0.120013</td>\n",
              "      <td>0.140214</td>\n",
              "      <td>-0.982843</td>\n",
              "      <td>-0.666608</td>\n",
              "      <td>-1.459000</td>\n",
              "      <td>0.441052</td>\n",
              "      <td>-1.075562</td>\n",
              "    </tr>\n",
              "    <tr>\n",
              "      <th>1</th>\n",
              "      <td>-0.417339</td>\n",
              "      <td>-0.487722</td>\n",
              "      <td>-0.593381</td>\n",
              "      <td>-0.272599</td>\n",
              "      <td>-0.740262</td>\n",
              "      <td>0.194274</td>\n",
              "      <td>0.367166</td>\n",
              "      <td>0.557160</td>\n",
              "      <td>-0.867883</td>\n",
              "      <td>-0.987329</td>\n",
              "      <td>-0.303094</td>\n",
              "      <td>0.441052</td>\n",
              "      <td>-0.492439</td>\n",
              "    </tr>\n",
              "    <tr>\n",
              "      <th>2</th>\n",
              "      <td>-0.417342</td>\n",
              "      <td>-0.487722</td>\n",
              "      <td>-0.593381</td>\n",
              "      <td>-0.272599</td>\n",
              "      <td>-0.740262</td>\n",
              "      <td>1.282714</td>\n",
              "      <td>-0.265812</td>\n",
              "      <td>0.557160</td>\n",
              "      <td>-0.867883</td>\n",
              "      <td>-0.987329</td>\n",
              "      <td>-0.303094</td>\n",
              "      <td>0.396427</td>\n",
              "      <td>-1.208727</td>\n",
              "    </tr>\n",
              "    <tr>\n",
              "      <th>3</th>\n",
              "      <td>-0.416750</td>\n",
              "      <td>-0.487722</td>\n",
              "      <td>-1.306878</td>\n",
              "      <td>-0.272599</td>\n",
              "      <td>-0.835284</td>\n",
              "      <td>1.016303</td>\n",
              "      <td>-0.809889</td>\n",
              "      <td>1.077737</td>\n",
              "      <td>-0.752922</td>\n",
              "      <td>-1.106115</td>\n",
              "      <td>0.113032</td>\n",
              "      <td>0.416163</td>\n",
              "      <td>-1.361517</td>\n",
              "    </tr>\n",
              "    <tr>\n",
              "      <th>4</th>\n",
              "      <td>-0.412482</td>\n",
              "      <td>-0.487722</td>\n",
              "      <td>-1.306878</td>\n",
              "      <td>-0.272599</td>\n",
              "      <td>-0.835284</td>\n",
              "      <td>1.228577</td>\n",
              "      <td>-0.511180</td>\n",
              "      <td>1.077737</td>\n",
              "      <td>-0.752922</td>\n",
              "      <td>-1.106115</td>\n",
              "      <td>0.113032</td>\n",
              "      <td>0.441052</td>\n",
              "      <td>-1.026501</td>\n",
              "    </tr>\n",
              "  </tbody>\n",
              "</table>\n",
              "</div>\n",
              "      <button class=\"colab-df-convert\" onclick=\"convertToInteractive('df-268f457d-3c50-4b65-8bd8-04435a11793f')\"\n",
              "              title=\"Convert this dataframe to an interactive table.\"\n",
              "              style=\"display:none;\">\n",
              "        \n",
              "  <svg xmlns=\"http://www.w3.org/2000/svg\" height=\"24px\"viewBox=\"0 0 24 24\"\n",
              "       width=\"24px\">\n",
              "    <path d=\"M0 0h24v24H0V0z\" fill=\"none\"/>\n",
              "    <path d=\"M18.56 5.44l.94 2.06.94-2.06 2.06-.94-2.06-.94-.94-2.06-.94 2.06-2.06.94zm-11 1L8.5 8.5l.94-2.06 2.06-.94-2.06-.94L8.5 2.5l-.94 2.06-2.06.94zm10 10l.94 2.06.94-2.06 2.06-.94-2.06-.94-.94-2.06-.94 2.06-2.06.94z\"/><path d=\"M17.41 7.96l-1.37-1.37c-.4-.4-.92-.59-1.43-.59-.52 0-1.04.2-1.43.59L10.3 9.45l-7.72 7.72c-.78.78-.78 2.05 0 2.83L4 21.41c.39.39.9.59 1.41.59.51 0 1.02-.2 1.41-.59l7.78-7.78 2.81-2.81c.8-.78.8-2.07 0-2.86zM5.41 20L4 18.59l7.72-7.72 1.47 1.35L5.41 20z\"/>\n",
              "  </svg>\n",
              "      </button>\n",
              "      \n",
              "  <style>\n",
              "    .colab-df-container {\n",
              "      display:flex;\n",
              "      flex-wrap:wrap;\n",
              "      gap: 12px;\n",
              "    }\n",
              "\n",
              "    .colab-df-convert {\n",
              "      background-color: #E8F0FE;\n",
              "      border: none;\n",
              "      border-radius: 50%;\n",
              "      cursor: pointer;\n",
              "      display: none;\n",
              "      fill: #1967D2;\n",
              "      height: 32px;\n",
              "      padding: 0 0 0 0;\n",
              "      width: 32px;\n",
              "    }\n",
              "\n",
              "    .colab-df-convert:hover {\n",
              "      background-color: #E2EBFA;\n",
              "      box-shadow: 0px 1px 2px rgba(60, 64, 67, 0.3), 0px 1px 3px 1px rgba(60, 64, 67, 0.15);\n",
              "      fill: #174EA6;\n",
              "    }\n",
              "\n",
              "    [theme=dark] .colab-df-convert {\n",
              "      background-color: #3B4455;\n",
              "      fill: #D2E3FC;\n",
              "    }\n",
              "\n",
              "    [theme=dark] .colab-df-convert:hover {\n",
              "      background-color: #434B5C;\n",
              "      box-shadow: 0px 1px 3px 1px rgba(0, 0, 0, 0.15);\n",
              "      filter: drop-shadow(0px 1px 2px rgba(0, 0, 0, 0.3));\n",
              "      fill: #FFFFFF;\n",
              "    }\n",
              "  </style>\n",
              "\n",
              "      <script>\n",
              "        const buttonEl =\n",
              "          document.querySelector('#df-268f457d-3c50-4b65-8bd8-04435a11793f button.colab-df-convert');\n",
              "        buttonEl.style.display =\n",
              "          google.colab.kernel.accessAllowed ? 'block' : 'none';\n",
              "\n",
              "        async function convertToInteractive(key) {\n",
              "          const element = document.querySelector('#df-268f457d-3c50-4b65-8bd8-04435a11793f');\n",
              "          const dataTable =\n",
              "            await google.colab.kernel.invokeFunction('convertToInteractive',\n",
              "                                                     [key], {});\n",
              "          if (!dataTable) return;\n",
              "\n",
              "          const docLinkHtml = 'Like what you see? Visit the ' +\n",
              "            '<a target=\"_blank\" href=https://colab.research.google.com/notebooks/data_table.ipynb>data table notebook</a>'\n",
              "            + ' to learn more about interactive tables.';\n",
              "          element.innerHTML = '';\n",
              "          dataTable['output_type'] = 'display_data';\n",
              "          await google.colab.output.renderOutput(dataTable, element);\n",
              "          const docLink = document.createElement('div');\n",
              "          docLink.innerHTML = docLinkHtml;\n",
              "          element.appendChild(docLink);\n",
              "        }\n",
              "      </script>\n",
              "    </div>\n",
              "  </div>\n",
              "  "
            ]
          },
          "metadata": {},
          "execution_count": 7
        }
      ]
    },
    {
      "cell_type": "markdown",
      "source": [
        "## PCA Process"
      ],
      "metadata": {
        "id": "8tq4DSBxCr7V"
      },
      "id": "8tq4DSBxCr7V"
    },
    {
      "cell_type": "code",
      "source": [
        "# menghitung covariance matrix\n",
        "\n",
        "covariance_matrix = np.cov(x_std.T)\n",
        "covariance_matrix"
      ],
      "metadata": {
        "colab": {
          "base_uri": "https://localhost:8080/"
        },
        "id": "b76RGIxUCQDl",
        "outputId": "25fac44b-b908-42ce-cab0-8ed780e59b0c"
      },
      "id": "b76RGIxUCQDl",
      "execution_count": null,
      "outputs": [
        {
          "output_type": "execute_result",
          "data": {
            "text/plain": [
              "array([[ 1.0019802 , -0.20086619,  0.40738853, -0.05600226,  0.42180532,\n",
              "        -0.21968085,  0.35343273, -0.38042191,  0.62674377,  0.5839183 ,\n",
              "         0.29051973, -0.38582644,  0.4565237 ],\n",
              "       [-0.20086619,  1.0019802 , -0.53488527, -0.04278127, -0.51762669,\n",
              "         0.31260839, -0.57066514,  0.66572388, -0.31256554, -0.31518622,\n",
              "        -0.39245415,  0.17586788, -0.41381239],\n",
              "       [ 0.40738853, -0.53488527,  1.0019802 ,  0.06306266,  0.76516363,\n",
              "        -0.39245145,  0.6460553 , -0.70942902,  0.59630775,  0.72218743,\n",
              "         0.38400646, -0.35768342,  0.60499536],\n",
              "       [-0.05600226, -0.04278127,  0.06306266,  1.0019802 ,  0.09138341,\n",
              "         0.09143192,  0.0866891 , -0.09937217, -0.00738283, -0.03565699,\n",
              "        -0.1217558 ,  0.0488851 , -0.05403609],\n",
              "       [ 0.42180532, -0.51762669,  0.76516363,  0.09138341,  1.0019802 ,\n",
              "        -0.30278658,  0.73291856, -0.77075334,  0.61265134,  0.66934602,\n",
              "         0.1893068 , -0.38080321,  0.59204898],\n",
              "       [-0.21968085,  0.31260839, -0.39245145,  0.09143192, -0.30278658,\n",
              "         1.0019802 , -0.2407407 ,  0.20565264, -0.21026221, -0.29262615,\n",
              "        -0.35620546,  0.12832224, -0.61502373],\n",
              "       [ 0.35343273, -0.57066514,  0.6460553 ,  0.0866891 ,  0.73291856,\n",
              "        -0.2407407 ,  1.0019802 , -0.74936149,  0.45692547,  0.50745848,\n",
              "         0.26203286, -0.27407563,  0.60353128],\n",
              "       [-0.38042191,  0.66572388, -0.70942902, -0.09937217, -0.77075334,\n",
              "         0.20565264, -0.74936149,  1.0019802 , -0.49556731, -0.53548986,\n",
              "        -0.23293088,  0.29208892, -0.49797998],\n",
              "       [ 0.62674377, -0.31256554,  0.59630775, -0.00738283,  0.61265134,\n",
              "        -0.21026221,  0.45692547, -0.49556731,  1.0019802 ,  0.91203062,\n",
              "         0.46566146, -0.44529284,  0.48964401],\n",
              "       [ 0.5839183 , -0.31518622,  0.72218743, -0.03565699,  0.66934602,\n",
              "        -0.29262615,  0.50745848, -0.53548986,  0.91203062,  1.0019802 ,\n",
              "         0.46176562, -0.44268287,  0.54507063],\n",
              "       [ 0.29051973, -0.39245415,  0.38400646, -0.1217558 ,  0.1893068 ,\n",
              "        -0.35620546,  0.26203286, -0.23293088,  0.46566146,  0.46176562,\n",
              "         1.0019802 , -0.17773456,  0.374785  ],\n",
              "       [-0.38582644,  0.17586788, -0.35768342,  0.0488851 , -0.38080321,\n",
              "         0.12832224, -0.27407563,  0.29208892, -0.44529284, -0.44268287,\n",
              "        -0.17773456,  1.0019802 , -0.36681183],\n",
              "       [ 0.4565237 , -0.41381239,  0.60499536, -0.05403609,  0.59204898,\n",
              "        -0.61502373,  0.60353128, -0.49797998,  0.48964401,  0.54507063,\n",
              "         0.374785  , -0.36681183,  1.0019802 ]])"
            ]
          },
          "metadata": {},
          "execution_count": 8
        }
      ]
    },
    {
      "cell_type": "code",
      "source": [
        "# mencari nilai Eigenvalue dan Eigenvector dari Covariance Matrix\n",
        "\n",
        "eigen_values, eigen_vectors = np.linalg.eig(covariance_matrix)\n",
        "\n",
        "print('Eigenvectors:\\n', eigen_vectors, '\\n')\n",
        "print('Eigenvalues:\\n', eigen_values, '\\n')"
      ],
      "metadata": {
        "colab": {
          "base_uri": "https://localhost:8080/"
        },
        "id": "Tn_dwPANCPyq",
        "outputId": "b51ce5fa-48fc-4e87-eb45-dd9e918d8b48"
      },
      "id": "Tn_dwPANCPyq",
      "execution_count": null,
      "outputs": [
        {
          "output_type": "stream",
          "name": "stdout",
          "text": [
            "Eigenvectors:\n",
            " [[-0.2509514   0.31525237 -0.24656649 -0.06177071  0.08215692  0.21965961\n",
            "  -0.77760721 -0.15335048 -0.0459523  -0.26039028  0.08676107  0.10964435\n",
            "  -0.01936913]\n",
            " [ 0.25631454  0.3233129  -0.29585782 -0.12871159  0.32061699  0.3233881\n",
            "   0.27499628  0.40268031  0.08091897 -0.35813749 -0.07142528 -0.26275629\n",
            "  -0.26752723]\n",
            " [-0.34667207 -0.11249291  0.01594592 -0.01714571 -0.00781119  0.0761379\n",
            "   0.33957645 -0.17393172  0.25107654 -0.64441615 -0.11319963  0.30316943\n",
            "   0.36353226]\n",
            " [-0.00504243 -0.45482914 -0.28978082 -0.81594136  0.08653094 -0.16749014\n",
            "  -0.07413621  0.02466215 -0.03592171  0.01372777 -0.00398268 -0.01392667\n",
            "   0.00618184]\n",
            " [-0.34285231 -0.21911553 -0.12096411  0.12822614  0.13685356  0.15298267\n",
            "   0.19963484 -0.08012056 -0.04363045  0.01852201  0.80432257 -0.11131888\n",
            "  -0.23105645]\n",
            " [ 0.18924257 -0.14933154 -0.59396117  0.28059184 -0.4234472  -0.05926707\n",
            "  -0.06393992  0.32675226 -0.0455671  -0.04789804  0.15287286 -0.05316154\n",
            "   0.43142019]\n",
            " [-0.3136706  -0.31197778  0.01767481  0.17520603  0.01669085  0.07170914\n",
            "  -0.11601071  0.60082292  0.03855068  0.06756218 -0.21193607  0.45915939\n",
            "  -0.36277896]\n",
            " [ 0.32154387  0.34907     0.04973627 -0.21543585  0.09859225 -0.02343872\n",
            "   0.10390044  0.12181198  0.01829854  0.15329124  0.39094113  0.69569257\n",
            "   0.17121314]\n",
            " [-0.31979277  0.27152094 -0.28725483 -0.13234996 -0.20413162  0.14319401\n",
            "   0.13794255 -0.08035831  0.63348972  0.47089067 -0.10702589 -0.03654388\n",
            "  -0.02190945]\n",
            " [-0.33846915  0.23945365 -0.22074447 -0.10333509 -0.13046057  0.19293428\n",
            "   0.31488683 -0.08277435 -0.72023345  0.17656339 -0.21519113  0.10483575\n",
            "   0.03516835]\n",
            " [-0.20494226  0.30589695  0.32344627 -0.28262198 -0.58400223 -0.2731533\n",
            "  -0.00232387  0.3178842  -0.02339805 -0.25442836  0.20959883 -0.17450534\n",
            "  -0.15343049]\n",
            " [ 0.20297261 -0.23855944  0.3001459  -0.1684985  -0.34560695  0.80345454\n",
            "  -0.07029476  0.00492291  0.00446307  0.04489802  0.04172316 -0.0192749\n",
            "   0.09651512]\n",
            " [-0.30975984  0.07432203  0.26700025 -0.06941441  0.39456113  0.05321583\n",
            "  -0.08701117  0.42435293 -0.02443168  0.19522139  0.05522596 -0.27138243\n",
            "   0.60071141]] \n",
            "\n",
            "Eigenvalues:\n",
            " [6.1389812  1.43611329 1.2450773  0.85927328 0.83646904 0.65870897\n",
            " 0.5364162  0.39688167 0.06363502 0.27749173 0.16963823 0.18638271\n",
            " 0.22067394] \n",
            "\n"
          ]
        }
      ]
    },
    {
      "cell_type": "code",
      "source": [
        "# menampilkan eigenvalues dalam bentuk rasio\n",
        "\n",
        "variance_explained = []\n",
        "for i in eigen_values:\n",
        "    variance_explained.append((i/sum(eigen_values))*100)\n",
        "print(variance_explained)"
      ],
      "metadata": {
        "colab": {
          "base_uri": "https://localhost:8080/"
        },
        "id": "WYZgAprvC4Nz",
        "outputId": "1c8faf95-7091-45e7-ae0a-2c56b66037ba"
      },
      "id": "WYZgAprvC4Nz",
      "execution_count": null,
      "outputs": [
        {
          "output_type": "stream",
          "name": "stdout",
          "text": [
            "[47.12960635727468, 11.02519324758802, 9.558589792622927, 6.596731600836161, 6.4216610521373605, 5.056978272291275, 4.118123739654422, 3.0469024189856633, 0.488532772626724, 2.1303333054001587, 1.3023305792840114, 1.4308797464566017, 1.6941371148420055]\n"
          ]
        }
      ]
    },
    {
      "cell_type": "markdown",
      "source": [
        "Ada 13 pc dan dari 13 pc ini akan direduksi menjadi beberapa pc saja yang akan digunakan untuk masuk ke proses modelling. Jika kita menggunakan pc1, maka data original yang tercover hanya sekitar 47% saja sedangkan berdasarkan teori minimal data original yang tercover setelah direduksi = 80%.\n",
        "Agar lebih mudah, kita coba mengidentifikasi komponen-komponen yang mengcover data original hingga 80%"
      ],
      "metadata": {
        "id": "YY6z4RZPDBoY"
      },
      "id": "YY6z4RZPDBoY"
    },
    {
      "cell_type": "code",
      "source": [
        "cumulative_variance_explained = np.cumsum(variance_explained)\n",
        "\n",
        "print(cumulative_variance_explained)"
      ],
      "metadata": {
        "colab": {
          "base_uri": "https://localhost:8080/"
        },
        "id": "nwz4cRJHC4LQ",
        "outputId": "1720bda4-88b1-415d-8f4b-910af685bdf6"
      },
      "id": "nwz4cRJHC4LQ",
      "execution_count": null,
      "outputs": [
        {
          "output_type": "stream",
          "name": "stdout",
          "text": [
            "[ 47.12960636  58.1547996   67.7133894   74.310121    80.73178205\n",
            "  85.78876032  89.90688406  92.95378648  93.44231925  95.57265256\n",
            "  96.87498314  98.30586289 100.        ]\n"
          ]
        }
      ]
    },
    {
      "cell_type": "markdown",
      "source": [
        "Dari perhitungan di atas kita tahu bahwa 5 pc pertama sudah mengcover 80% data original, namun saat ini saya ingin menggunakan 10 pc sehingga data original yang tercover = 95.57265256%"
      ],
      "metadata": {
        "id": "Fher4mMKDeQT"
      },
      "id": "Fher4mMKDeQT"
    },
    {
      "cell_type": "code",
      "source": [
        "projection_matrix = (eigen_vectors.T[:][:10]).T\n",
        "print(projection_matrix)"
      ],
      "metadata": {
        "colab": {
          "base_uri": "https://localhost:8080/"
        },
        "id": "HRnQDBEPC4Jk",
        "outputId": "c0dbf87c-ca5a-44e0-8928-97f2fcdf577d"
      },
      "id": "HRnQDBEPC4Jk",
      "execution_count": null,
      "outputs": [
        {
          "output_type": "stream",
          "name": "stdout",
          "text": [
            "[[-0.2509514   0.31525237 -0.24656649 -0.06177071  0.08215692  0.21965961\n",
            "  -0.77760721 -0.15335048 -0.0459523  -0.26039028]\n",
            " [ 0.25631454  0.3233129  -0.29585782 -0.12871159  0.32061699  0.3233881\n",
            "   0.27499628  0.40268031  0.08091897 -0.35813749]\n",
            " [-0.34667207 -0.11249291  0.01594592 -0.01714571 -0.00781119  0.0761379\n",
            "   0.33957645 -0.17393172  0.25107654 -0.64441615]\n",
            " [-0.00504243 -0.45482914 -0.28978082 -0.81594136  0.08653094 -0.16749014\n",
            "  -0.07413621  0.02466215 -0.03592171  0.01372777]\n",
            " [-0.34285231 -0.21911553 -0.12096411  0.12822614  0.13685356  0.15298267\n",
            "   0.19963484 -0.08012056 -0.04363045  0.01852201]\n",
            " [ 0.18924257 -0.14933154 -0.59396117  0.28059184 -0.4234472  -0.05926707\n",
            "  -0.06393992  0.32675226 -0.0455671  -0.04789804]\n",
            " [-0.3136706  -0.31197778  0.01767481  0.17520603  0.01669085  0.07170914\n",
            "  -0.11601071  0.60082292  0.03855068  0.06756218]\n",
            " [ 0.32154387  0.34907     0.04973627 -0.21543585  0.09859225 -0.02343872\n",
            "   0.10390044  0.12181198  0.01829854  0.15329124]\n",
            " [-0.31979277  0.27152094 -0.28725483 -0.13234996 -0.20413162  0.14319401\n",
            "   0.13794255 -0.08035831  0.63348972  0.47089067]\n",
            " [-0.33846915  0.23945365 -0.22074447 -0.10333509 -0.13046057  0.19293428\n",
            "   0.31488683 -0.08277435 -0.72023345  0.17656339]\n",
            " [-0.20494226  0.30589695  0.32344627 -0.28262198 -0.58400223 -0.2731533\n",
            "  -0.00232387  0.3178842  -0.02339805 -0.25442836]\n",
            " [ 0.20297261 -0.23855944  0.3001459  -0.1684985  -0.34560695  0.80345454\n",
            "  -0.07029476  0.00492291  0.00446307  0.04489802]\n",
            " [-0.30975984  0.07432203  0.26700025 -0.06941441  0.39456113  0.05321583\n",
            "  -0.08701117  0.42435293 -0.02443168  0.19522139]]\n"
          ]
        }
      ]
    },
    {
      "cell_type": "code",
      "source": [
        "# menampilkan pc hasil reduksi\n",
        "\n",
        "boston_pca = x.dot(projection_matrix)\n",
        "boston_pca.columns = ['pc1', 'pc2', 'pc3', 'pc4', 'pc5', 'pc6', 'pc7', 'pc8', 'pc9', 'pc10']\n",
        "boston_pca['MEDV'] = boston['MEDV']\n",
        "boston_pca.head()"
      ],
      "metadata": {
        "colab": {
          "base_uri": "https://localhost:8080/",
          "height": 206
        },
        "id": "JttTFIKGC4Gx",
        "outputId": "8e11e2ad-df31-484e-941c-543bf82d46c9"
      },
      "id": "JttTFIKGC4Gx",
      "execution_count": null,
      "outputs": [
        {
          "output_type": "execute_result",
          "data": {
            "text/plain": [
              "         pc1        pc2        pc3        pc4         pc5         pc6  \\\n",
              "0 -38.890181 -32.935324  51.873961 -92.167019 -178.427648  382.499065   \n",
              "1 -33.023432 -54.798669  71.207997 -83.321389 -176.841195  367.268772   \n",
              "2 -26.538735 -48.768409  67.853639 -85.185186 -178.071394  362.405072   \n",
              "3 -12.756987 -47.783518  72.338822 -86.619758 -177.275189  358.347339   \n",
              "4 -15.652406 -50.778719  73.709208 -85.656877 -177.036592  360.899950   \n",
              "\n",
              "         pc7        pc8         pc9       pc10  MEDV  \n",
              "0  63.253078  32.971896 -206.962371  64.423458  24.0  \n",
              "1  41.167341  40.135316 -167.304566  59.975715  21.6  \n",
              "2  43.914223  27.501830 -167.918899  57.556203  34.7  \n",
              "3  37.954676  20.639702 -154.655918  56.427659  33.4  \n",
              "4  36.574611  26.755055 -154.388828  57.546991  36.2  "
            ],
            "text/html": [
              "\n",
              "  <div id=\"df-0a632e4d-dafa-4f63-8614-0cae212a62e5\">\n",
              "    <div class=\"colab-df-container\">\n",
              "      <div>\n",
              "<style scoped>\n",
              "    .dataframe tbody tr th:only-of-type {\n",
              "        vertical-align: middle;\n",
              "    }\n",
              "\n",
              "    .dataframe tbody tr th {\n",
              "        vertical-align: top;\n",
              "    }\n",
              "\n",
              "    .dataframe thead th {\n",
              "        text-align: right;\n",
              "    }\n",
              "</style>\n",
              "<table border=\"1\" class=\"dataframe\">\n",
              "  <thead>\n",
              "    <tr style=\"text-align: right;\">\n",
              "      <th></th>\n",
              "      <th>pc1</th>\n",
              "      <th>pc2</th>\n",
              "      <th>pc3</th>\n",
              "      <th>pc4</th>\n",
              "      <th>pc5</th>\n",
              "      <th>pc6</th>\n",
              "      <th>pc7</th>\n",
              "      <th>pc8</th>\n",
              "      <th>pc9</th>\n",
              "      <th>pc10</th>\n",
              "      <th>MEDV</th>\n",
              "    </tr>\n",
              "  </thead>\n",
              "  <tbody>\n",
              "    <tr>\n",
              "      <th>0</th>\n",
              "      <td>-38.890181</td>\n",
              "      <td>-32.935324</td>\n",
              "      <td>51.873961</td>\n",
              "      <td>-92.167019</td>\n",
              "      <td>-178.427648</td>\n",
              "      <td>382.499065</td>\n",
              "      <td>63.253078</td>\n",
              "      <td>32.971896</td>\n",
              "      <td>-206.962371</td>\n",
              "      <td>64.423458</td>\n",
              "      <td>24.0</td>\n",
              "    </tr>\n",
              "    <tr>\n",
              "      <th>1</th>\n",
              "      <td>-33.023432</td>\n",
              "      <td>-54.798669</td>\n",
              "      <td>71.207997</td>\n",
              "      <td>-83.321389</td>\n",
              "      <td>-176.841195</td>\n",
              "      <td>367.268772</td>\n",
              "      <td>41.167341</td>\n",
              "      <td>40.135316</td>\n",
              "      <td>-167.304566</td>\n",
              "      <td>59.975715</td>\n",
              "      <td>21.6</td>\n",
              "    </tr>\n",
              "    <tr>\n",
              "      <th>2</th>\n",
              "      <td>-26.538735</td>\n",
              "      <td>-48.768409</td>\n",
              "      <td>67.853639</td>\n",
              "      <td>-85.185186</td>\n",
              "      <td>-178.071394</td>\n",
              "      <td>362.405072</td>\n",
              "      <td>43.914223</td>\n",
              "      <td>27.501830</td>\n",
              "      <td>-167.918899</td>\n",
              "      <td>57.556203</td>\n",
              "      <td>34.7</td>\n",
              "    </tr>\n",
              "    <tr>\n",
              "      <th>3</th>\n",
              "      <td>-12.756987</td>\n",
              "      <td>-47.783518</td>\n",
              "      <td>72.338822</td>\n",
              "      <td>-86.619758</td>\n",
              "      <td>-177.275189</td>\n",
              "      <td>358.347339</td>\n",
              "      <td>37.954676</td>\n",
              "      <td>20.639702</td>\n",
              "      <td>-154.655918</td>\n",
              "      <td>56.427659</td>\n",
              "      <td>33.4</td>\n",
              "    </tr>\n",
              "    <tr>\n",
              "      <th>4</th>\n",
              "      <td>-15.652406</td>\n",
              "      <td>-50.778719</td>\n",
              "      <td>73.709208</td>\n",
              "      <td>-85.656877</td>\n",
              "      <td>-177.036592</td>\n",
              "      <td>360.899950</td>\n",
              "      <td>36.574611</td>\n",
              "      <td>26.755055</td>\n",
              "      <td>-154.388828</td>\n",
              "      <td>57.546991</td>\n",
              "      <td>36.2</td>\n",
              "    </tr>\n",
              "  </tbody>\n",
              "</table>\n",
              "</div>\n",
              "      <button class=\"colab-df-convert\" onclick=\"convertToInteractive('df-0a632e4d-dafa-4f63-8614-0cae212a62e5')\"\n",
              "              title=\"Convert this dataframe to an interactive table.\"\n",
              "              style=\"display:none;\">\n",
              "        \n",
              "  <svg xmlns=\"http://www.w3.org/2000/svg\" height=\"24px\"viewBox=\"0 0 24 24\"\n",
              "       width=\"24px\">\n",
              "    <path d=\"M0 0h24v24H0V0z\" fill=\"none\"/>\n",
              "    <path d=\"M18.56 5.44l.94 2.06.94-2.06 2.06-.94-2.06-.94-.94-2.06-.94 2.06-2.06.94zm-11 1L8.5 8.5l.94-2.06 2.06-.94-2.06-.94L8.5 2.5l-.94 2.06-2.06.94zm10 10l.94 2.06.94-2.06 2.06-.94-2.06-.94-.94-2.06-.94 2.06-2.06.94z\"/><path d=\"M17.41 7.96l-1.37-1.37c-.4-.4-.92-.59-1.43-.59-.52 0-1.04.2-1.43.59L10.3 9.45l-7.72 7.72c-.78.78-.78 2.05 0 2.83L4 21.41c.39.39.9.59 1.41.59.51 0 1.02-.2 1.41-.59l7.78-7.78 2.81-2.81c.8-.78.8-2.07 0-2.86zM5.41 20L4 18.59l7.72-7.72 1.47 1.35L5.41 20z\"/>\n",
              "  </svg>\n",
              "      </button>\n",
              "      \n",
              "  <style>\n",
              "    .colab-df-container {\n",
              "      display:flex;\n",
              "      flex-wrap:wrap;\n",
              "      gap: 12px;\n",
              "    }\n",
              "\n",
              "    .colab-df-convert {\n",
              "      background-color: #E8F0FE;\n",
              "      border: none;\n",
              "      border-radius: 50%;\n",
              "      cursor: pointer;\n",
              "      display: none;\n",
              "      fill: #1967D2;\n",
              "      height: 32px;\n",
              "      padding: 0 0 0 0;\n",
              "      width: 32px;\n",
              "    }\n",
              "\n",
              "    .colab-df-convert:hover {\n",
              "      background-color: #E2EBFA;\n",
              "      box-shadow: 0px 1px 2px rgba(60, 64, 67, 0.3), 0px 1px 3px 1px rgba(60, 64, 67, 0.15);\n",
              "      fill: #174EA6;\n",
              "    }\n",
              "\n",
              "    [theme=dark] .colab-df-convert {\n",
              "      background-color: #3B4455;\n",
              "      fill: #D2E3FC;\n",
              "    }\n",
              "\n",
              "    [theme=dark] .colab-df-convert:hover {\n",
              "      background-color: #434B5C;\n",
              "      box-shadow: 0px 1px 3px 1px rgba(0, 0, 0, 0.15);\n",
              "      filter: drop-shadow(0px 1px 2px rgba(0, 0, 0, 0.3));\n",
              "      fill: #FFFFFF;\n",
              "    }\n",
              "  </style>\n",
              "\n",
              "      <script>\n",
              "        const buttonEl =\n",
              "          document.querySelector('#df-0a632e4d-dafa-4f63-8614-0cae212a62e5 button.colab-df-convert');\n",
              "        buttonEl.style.display =\n",
              "          google.colab.kernel.accessAllowed ? 'block' : 'none';\n",
              "\n",
              "        async function convertToInteractive(key) {\n",
              "          const element = document.querySelector('#df-0a632e4d-dafa-4f63-8614-0cae212a62e5');\n",
              "          const dataTable =\n",
              "            await google.colab.kernel.invokeFunction('convertToInteractive',\n",
              "                                                     [key], {});\n",
              "          if (!dataTable) return;\n",
              "\n",
              "          const docLinkHtml = 'Like what you see? Visit the ' +\n",
              "            '<a target=\"_blank\" href=https://colab.research.google.com/notebooks/data_table.ipynb>data table notebook</a>'\n",
              "            + ' to learn more about interactive tables.';\n",
              "          element.innerHTML = '';\n",
              "          dataTable['output_type'] = 'display_data';\n",
              "          await google.colab.output.renderOutput(dataTable, element);\n",
              "          const docLink = document.createElement('div');\n",
              "          docLink.innerHTML = docLinkHtml;\n",
              "          element.appendChild(docLink);\n",
              "        }\n",
              "      </script>\n",
              "    </div>\n",
              "  </div>\n",
              "  "
            ]
          },
          "metadata": {},
          "execution_count": 13
        }
      ]
    },
    {
      "cell_type": "markdown",
      "source": [
        "Dari 13 pc sudah direduksi menjadi 10 pc, dimana 10 pc ini mengcover sekitar 95% data original"
      ],
      "metadata": {
        "id": "ikUbhvOpDsSj"
      },
      "id": "ikUbhvOpDsSj"
    },
    {
      "cell_type": "markdown",
      "source": [
        "## Modelling"
      ],
      "metadata": {
        "id": "MKuD3YEbD1WZ"
      },
      "id": "MKuD3YEbD1WZ"
    },
    {
      "cell_type": "code",
      "source": [
        "# kita coba menggunakan model Decision Tree\n",
        "\n",
        "from sklearn.tree import DecisionTreeRegressor\n",
        "\n",
        "from sklearn.model_selection import train_test_split"
      ],
      "metadata": {
        "id": "OjMIS4A3Fk28"
      },
      "id": "OjMIS4A3Fk28",
      "execution_count": null,
      "outputs": []
    },
    {
      "cell_type": "code",
      "source": [
        "x_new = boston_pca.drop('MEDV', axis = 1)\n",
        "y_new = boston_pca['MEDV']\n",
        "\n",
        "x_train_pca, x_test_pca, y_train_pca, y_test_pca = train_test_split(x_new, y_new, test_size = 0.25, random_state = 42)\n",
        "\n",
        "model_pca = DecisionTreeRegressor()\n",
        "model_pca.fit(x_train_pca, y_train_pca)"
      ],
      "metadata": {
        "colab": {
          "base_uri": "https://localhost:8080/",
          "height": 75
        },
        "id": "dFBQDZhaC4Ep",
        "outputId": "f1954091-d3fd-4dd7-c325-aac59146f8d0"
      },
      "id": "dFBQDZhaC4Ep",
      "execution_count": null,
      "outputs": [
        {
          "output_type": "execute_result",
          "data": {
            "text/plain": [
              "DecisionTreeRegressor()"
            ],
            "text/html": [
              "<style>#sk-container-id-1 {color: black;background-color: white;}#sk-container-id-1 pre{padding: 0;}#sk-container-id-1 div.sk-toggleable {background-color: white;}#sk-container-id-1 label.sk-toggleable__label {cursor: pointer;display: block;width: 100%;margin-bottom: 0;padding: 0.3em;box-sizing: border-box;text-align: center;}#sk-container-id-1 label.sk-toggleable__label-arrow:before {content: \"▸\";float: left;margin-right: 0.25em;color: #696969;}#sk-container-id-1 label.sk-toggleable__label-arrow:hover:before {color: black;}#sk-container-id-1 div.sk-estimator:hover label.sk-toggleable__label-arrow:before {color: black;}#sk-container-id-1 div.sk-toggleable__content {max-height: 0;max-width: 0;overflow: hidden;text-align: left;background-color: #f0f8ff;}#sk-container-id-1 div.sk-toggleable__content pre {margin: 0.2em;color: black;border-radius: 0.25em;background-color: #f0f8ff;}#sk-container-id-1 input.sk-toggleable__control:checked~div.sk-toggleable__content {max-height: 200px;max-width: 100%;overflow: auto;}#sk-container-id-1 input.sk-toggleable__control:checked~label.sk-toggleable__label-arrow:before {content: \"▾\";}#sk-container-id-1 div.sk-estimator input.sk-toggleable__control:checked~label.sk-toggleable__label {background-color: #d4ebff;}#sk-container-id-1 div.sk-label input.sk-toggleable__control:checked~label.sk-toggleable__label {background-color: #d4ebff;}#sk-container-id-1 input.sk-hidden--visually {border: 0;clip: rect(1px 1px 1px 1px);clip: rect(1px, 1px, 1px, 1px);height: 1px;margin: -1px;overflow: hidden;padding: 0;position: absolute;width: 1px;}#sk-container-id-1 div.sk-estimator {font-family: monospace;background-color: #f0f8ff;border: 1px dotted black;border-radius: 0.25em;box-sizing: border-box;margin-bottom: 0.5em;}#sk-container-id-1 div.sk-estimator:hover {background-color: #d4ebff;}#sk-container-id-1 div.sk-parallel-item::after {content: \"\";width: 100%;border-bottom: 1px solid gray;flex-grow: 1;}#sk-container-id-1 div.sk-label:hover label.sk-toggleable__label {background-color: #d4ebff;}#sk-container-id-1 div.sk-serial::before {content: \"\";position: absolute;border-left: 1px solid gray;box-sizing: border-box;top: 0;bottom: 0;left: 50%;z-index: 0;}#sk-container-id-1 div.sk-serial {display: flex;flex-direction: column;align-items: center;background-color: white;padding-right: 0.2em;padding-left: 0.2em;position: relative;}#sk-container-id-1 div.sk-item {position: relative;z-index: 1;}#sk-container-id-1 div.sk-parallel {display: flex;align-items: stretch;justify-content: center;background-color: white;position: relative;}#sk-container-id-1 div.sk-item::before, #sk-container-id-1 div.sk-parallel-item::before {content: \"\";position: absolute;border-left: 1px solid gray;box-sizing: border-box;top: 0;bottom: 0;left: 50%;z-index: -1;}#sk-container-id-1 div.sk-parallel-item {display: flex;flex-direction: column;z-index: 1;position: relative;background-color: white;}#sk-container-id-1 div.sk-parallel-item:first-child::after {align-self: flex-end;width: 50%;}#sk-container-id-1 div.sk-parallel-item:last-child::after {align-self: flex-start;width: 50%;}#sk-container-id-1 div.sk-parallel-item:only-child::after {width: 0;}#sk-container-id-1 div.sk-dashed-wrapped {border: 1px dashed gray;margin: 0 0.4em 0.5em 0.4em;box-sizing: border-box;padding-bottom: 0.4em;background-color: white;}#sk-container-id-1 div.sk-label label {font-family: monospace;font-weight: bold;display: inline-block;line-height: 1.2em;}#sk-container-id-1 div.sk-label-container {text-align: center;}#sk-container-id-1 div.sk-container {/* jupyter's `normalize.less` sets `[hidden] { display: none; }` but bootstrap.min.css set `[hidden] { display: none !important; }` so we also need the `!important` here to be able to override the default hidden behavior on the sphinx rendered scikit-learn.org. See: https://github.com/scikit-learn/scikit-learn/issues/21755 */display: inline-block !important;position: relative;}#sk-container-id-1 div.sk-text-repr-fallback {display: none;}</style><div id=\"sk-container-id-1\" class=\"sk-top-container\"><div class=\"sk-text-repr-fallback\"><pre>DecisionTreeRegressor()</pre><b>In a Jupyter environment, please rerun this cell to show the HTML representation or trust the notebook. <br />On GitHub, the HTML representation is unable to render, please try loading this page with nbviewer.org.</b></div><div class=\"sk-container\" hidden><div class=\"sk-item\"><div class=\"sk-estimator sk-toggleable\"><input class=\"sk-toggleable__control sk-hidden--visually\" id=\"sk-estimator-id-1\" type=\"checkbox\" checked><label for=\"sk-estimator-id-1\" class=\"sk-toggleable__label sk-toggleable__label-arrow\">DecisionTreeRegressor</label><div class=\"sk-toggleable__content\"><pre>DecisionTreeRegressor()</pre></div></div></div></div></div>"
            ]
          },
          "metadata": {},
          "execution_count": 15
        }
      ]
    },
    {
      "cell_type": "code",
      "source": [
        "# kita coba bandingkan train dan test pca dengan data asli\n",
        "\n",
        "x_train, x_test, y_train, y_test = train_test_split(x, y, test_size = 0.25, random_state = 42)\n",
        "\n",
        "model = DecisionTreeRegressor()\n",
        "model.fit(x_train, y_train)"
      ],
      "metadata": {
        "colab": {
          "base_uri": "https://localhost:8080/",
          "height": 75
        },
        "id": "DnTwUzDLC4Bh",
        "outputId": "481ccf75-661e-4500-fac8-62e7fbbc33e5"
      },
      "id": "DnTwUzDLC4Bh",
      "execution_count": null,
      "outputs": [
        {
          "output_type": "execute_result",
          "data": {
            "text/plain": [
              "DecisionTreeRegressor()"
            ],
            "text/html": [
              "<style>#sk-container-id-2 {color: black;background-color: white;}#sk-container-id-2 pre{padding: 0;}#sk-container-id-2 div.sk-toggleable {background-color: white;}#sk-container-id-2 label.sk-toggleable__label {cursor: pointer;display: block;width: 100%;margin-bottom: 0;padding: 0.3em;box-sizing: border-box;text-align: center;}#sk-container-id-2 label.sk-toggleable__label-arrow:before {content: \"▸\";float: left;margin-right: 0.25em;color: #696969;}#sk-container-id-2 label.sk-toggleable__label-arrow:hover:before {color: black;}#sk-container-id-2 div.sk-estimator:hover label.sk-toggleable__label-arrow:before {color: black;}#sk-container-id-2 div.sk-toggleable__content {max-height: 0;max-width: 0;overflow: hidden;text-align: left;background-color: #f0f8ff;}#sk-container-id-2 div.sk-toggleable__content pre {margin: 0.2em;color: black;border-radius: 0.25em;background-color: #f0f8ff;}#sk-container-id-2 input.sk-toggleable__control:checked~div.sk-toggleable__content {max-height: 200px;max-width: 100%;overflow: auto;}#sk-container-id-2 input.sk-toggleable__control:checked~label.sk-toggleable__label-arrow:before {content: \"▾\";}#sk-container-id-2 div.sk-estimator input.sk-toggleable__control:checked~label.sk-toggleable__label {background-color: #d4ebff;}#sk-container-id-2 div.sk-label input.sk-toggleable__control:checked~label.sk-toggleable__label {background-color: #d4ebff;}#sk-container-id-2 input.sk-hidden--visually {border: 0;clip: rect(1px 1px 1px 1px);clip: rect(1px, 1px, 1px, 1px);height: 1px;margin: -1px;overflow: hidden;padding: 0;position: absolute;width: 1px;}#sk-container-id-2 div.sk-estimator {font-family: monospace;background-color: #f0f8ff;border: 1px dotted black;border-radius: 0.25em;box-sizing: border-box;margin-bottom: 0.5em;}#sk-container-id-2 div.sk-estimator:hover {background-color: #d4ebff;}#sk-container-id-2 div.sk-parallel-item::after {content: \"\";width: 100%;border-bottom: 1px solid gray;flex-grow: 1;}#sk-container-id-2 div.sk-label:hover label.sk-toggleable__label {background-color: #d4ebff;}#sk-container-id-2 div.sk-serial::before {content: \"\";position: absolute;border-left: 1px solid gray;box-sizing: border-box;top: 0;bottom: 0;left: 50%;z-index: 0;}#sk-container-id-2 div.sk-serial {display: flex;flex-direction: column;align-items: center;background-color: white;padding-right: 0.2em;padding-left: 0.2em;position: relative;}#sk-container-id-2 div.sk-item {position: relative;z-index: 1;}#sk-container-id-2 div.sk-parallel {display: flex;align-items: stretch;justify-content: center;background-color: white;position: relative;}#sk-container-id-2 div.sk-item::before, #sk-container-id-2 div.sk-parallel-item::before {content: \"\";position: absolute;border-left: 1px solid gray;box-sizing: border-box;top: 0;bottom: 0;left: 50%;z-index: -1;}#sk-container-id-2 div.sk-parallel-item {display: flex;flex-direction: column;z-index: 1;position: relative;background-color: white;}#sk-container-id-2 div.sk-parallel-item:first-child::after {align-self: flex-end;width: 50%;}#sk-container-id-2 div.sk-parallel-item:last-child::after {align-self: flex-start;width: 50%;}#sk-container-id-2 div.sk-parallel-item:only-child::after {width: 0;}#sk-container-id-2 div.sk-dashed-wrapped {border: 1px dashed gray;margin: 0 0.4em 0.5em 0.4em;box-sizing: border-box;padding-bottom: 0.4em;background-color: white;}#sk-container-id-2 div.sk-label label {font-family: monospace;font-weight: bold;display: inline-block;line-height: 1.2em;}#sk-container-id-2 div.sk-label-container {text-align: center;}#sk-container-id-2 div.sk-container {/* jupyter's `normalize.less` sets `[hidden] { display: none; }` but bootstrap.min.css set `[hidden] { display: none !important; }` so we also need the `!important` here to be able to override the default hidden behavior on the sphinx rendered scikit-learn.org. See: https://github.com/scikit-learn/scikit-learn/issues/21755 */display: inline-block !important;position: relative;}#sk-container-id-2 div.sk-text-repr-fallback {display: none;}</style><div id=\"sk-container-id-2\" class=\"sk-top-container\"><div class=\"sk-text-repr-fallback\"><pre>DecisionTreeRegressor()</pre><b>In a Jupyter environment, please rerun this cell to show the HTML representation or trust the notebook. <br />On GitHub, the HTML representation is unable to render, please try loading this page with nbviewer.org.</b></div><div class=\"sk-container\" hidden><div class=\"sk-item\"><div class=\"sk-estimator sk-toggleable\"><input class=\"sk-toggleable__control sk-hidden--visually\" id=\"sk-estimator-id-2\" type=\"checkbox\" checked><label for=\"sk-estimator-id-2\" class=\"sk-toggleable__label sk-toggleable__label-arrow\">DecisionTreeRegressor</label><div class=\"sk-toggleable__content\"><pre>DecisionTreeRegressor()</pre></div></div></div></div></div>"
            ]
          },
          "metadata": {},
          "execution_count": 16
        }
      ]
    },
    {
      "cell_type": "code",
      "source": [
        "# Predicting\n",
        "\n",
        "y_pred_pca = model_pca.predict(x_test_pca)\n",
        "\n",
        "y_pred = model.predict(x_test)"
      ],
      "metadata": {
        "id": "yaaTMqtXC3_m"
      },
      "id": "yaaTMqtXC3_m",
      "execution_count": null,
      "outputs": []
    },
    {
      "cell_type": "code",
      "source": [
        "# Calculate the RMSE\n",
        "\n",
        "from sklearn.metrics import mean_squared_error\n",
        "\n",
        "# RMSE with PCA\n",
        "mse_pca = mean_squared_error(y_test_pca, y_pred_pca)\n",
        "rmse_pca = np.sqrt(mse_pca)\n",
        "print('RMSE with PCA:', rmse_pca)\n",
        "\n",
        "# RMSE with no PCA\n",
        "mse = mean_squared_error(y_test, y_pred)\n",
        "rmse = np.sqrt(mse)\n",
        "print('RMSE with no PCA:', rmse)"
      ],
      "metadata": {
        "colab": {
          "base_uri": "https://localhost:8080/"
        },
        "id": "LYgMQ_bE6Wv0",
        "outputId": "d8e7e96f-2da0-49cc-fb3c-6b45ea817777"
      },
      "id": "LYgMQ_bE6Wv0",
      "execution_count": null,
      "outputs": [
        {
          "output_type": "stream",
          "name": "stdout",
          "text": [
            "RMSE with PCA: 7.432509988180941\n",
            "RMSE with no PCA: 4.673968790221914\n"
          ]
        }
      ]
    },
    {
      "cell_type": "markdown",
      "source": [
        "Berdasarkan nilai evaluasi model di atas, kita mengetahui bahwa nilai RMSE with PCA lebih besar dibandingkan nilai RMSE with no PCA. Secara umum, semakin kecil nilai RMSE maka makin bagus performa suatu model. Dalam kasus ini, maka performa model Decision Tree Regressor tanpa PCA lebih baik dibandingkan menggunakan PCA."
      ],
      "metadata": {
        "id": "H5_qeU-cxYSv"
      },
      "id": "H5_qeU-cxYSv"
    }
  ],
  "metadata": {
    "kernelspec": {
      "display_name": "gpuenv",
      "language": "python",
      "name": "gpuenv"
    },
    "language_info": {
      "codemirror_mode": {
        "name": "ipython",
        "version": 3
      },
      "file_extension": ".py",
      "mimetype": "text/x-python",
      "name": "python",
      "nbconvert_exporter": "python",
      "pygments_lexer": "ipython3",
      "version": "3.6.13"
    },
    "toc": {
      "base_numbering": 1,
      "nav_menu": {},
      "number_sections": true,
      "sideBar": true,
      "skip_h1_title": false,
      "title_cell": "Table of Contents",
      "title_sidebar": "Contents",
      "toc_cell": false,
      "toc_position": {},
      "toc_section_display": true,
      "toc_window_display": false
    },
    "varInspector": {
      "cols": {
        "lenName": 16,
        "lenType": 16,
        "lenVar": 40
      },
      "kernels_config": {
        "python": {
          "delete_cmd_postfix": "",
          "delete_cmd_prefix": "del ",
          "library": "var_list.py",
          "varRefreshCmd": "print(var_dic_list())"
        },
        "r": {
          "delete_cmd_postfix": ") ",
          "delete_cmd_prefix": "rm(",
          "library": "var_list.r",
          "varRefreshCmd": "cat(var_dic_list()) "
        }
      },
      "types_to_exclude": [
        "module",
        "function",
        "builtin_function_or_method",
        "instance",
        "_Feature"
      ],
      "window_display": false
    },
    "colab": {
      "provenance": []
    }
  },
  "nbformat": 4,
  "nbformat_minor": 5
}